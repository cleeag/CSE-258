{
 "cells": [
  {
   "cell_type": "code",
   "execution_count": 167,
   "metadata": {},
   "outputs": [],
   "source": [
    "import gzip\n",
    "from collections import defaultdict\n",
    "from sklearn import linear_model\n",
    "import csv\n",
    "import random\n",
    "import numpy as np\n",
    "import pickle\n",
    "\n",
    "import os\n",
    "import json\n",
    "import pandas as pd\n",
    "import copy\n",
    "import random\n",
    "\n",
    "import scipy\n",
    "import scipy.optimize\n",
    "\n",
    "import collections\n",
    "from gensim.models import Word2Vec\n",
    "from nltk.stem.porter import *\n",
    "from sklearn import linear_model\n",
    "from sklearn.manifold import TSNE\n",
    "\n",
    "\n",
    "import matplotlib.pyplot as plt\n",
    "\n",
    "import sklearn\n",
    "import string\n"
   ]
  },
  {
   "cell_type": "code",
   "execution_count": 2,
   "metadata": {},
   "outputs": [
    {
     "name": "stdout",
     "output_type": "stream",
     "text": [
      "1143860\n",
      "{'overall': 5.0, 'verified': True, 'reviewTime': '11 19, 2014', 'reviewerID': 'A1QVBUH9E1V6I8', 'asin': '4639725183', 'reviewerName': 'Jamshed Mathur', 'reviewText': 'No adverse comment.', 'summary': 'Five Stars', 'unixReviewTime': 1416355200}\n"
     ]
    }
   ],
   "source": [
    "data = []\n",
    "with gzip.open('data\\Grocery_and_Gourmet_Food_5.json.gz') as f:\n",
    "    for l in f:\n",
    "        data.append(json.loads(l.strip()))\n",
    "    \n",
    "# total length of list, this number equals total number of products\n",
    "print(len(data))\n",
    "\n",
    "# first row of the list\n",
    "print(data[0])"
   ]
  },
  {
   "cell_type": "code",
   "execution_count": 3,
   "metadata": {},
   "outputs": [],
   "source": [
    "required_vals=['overall','verified','reviewerID','asin','reviewText','summary','unixReviewTime']\n",
    "data_cleaned=[]\n",
    "cnt=0\n",
    "imgcnt=0\n",
    "for d in data: \n",
    "    add=True \n",
    "    for i in required_vals:\n",
    "        if i not in d:\n",
    "            add=False \n",
    "    if add:\n",
    "        dcopy=copy.deepcopy(d) #not sure if this is really needed, will most likely remove\n",
    "        if 'image' in dcopy:\n",
    "            imgcnt+=1\n",
    "            dcopy['hasImage']=1\n",
    "        else:\n",
    "            dcopy['hasImage']=0\n",
    "        data_cleaned.append(dcopy)\n",
    "\n",
    "\n",
    "    "
   ]
  },
  {
   "cell_type": "code",
   "execution_count": 4,
   "metadata": {},
   "outputs": [
    {
     "name": "stdout",
     "output_type": "stream",
     "text": [
      "9474\n"
     ]
    }
   ],
   "source": [
    "print(imgcnt)\n",
    "#this is  small so the image feature might be useless "
   ]
  },
  {
   "cell_type": "code",
   "execution_count": 5,
   "metadata": {},
   "outputs": [],
   "source": [
    "#shuffle dataset\n",
    "random.shuffle(data_cleaned)\n",
    "train_data=data_cleaned[:int((len(data_cleaned)+1)*.80)]\n",
    "val_data=data_cleaned[int((len(data_cleaned)+1)*.80):]"
   ]
  },
  {
   "cell_type": "code",
   "execution_count": 6,
   "metadata": {},
   "outputs": [],
   "source": [
    "train_set=[]\n",
    "test_set=[]\n",
    "cnt=0\n",
    "\n",
    "itemsPerUser=defaultdict(set)\n",
    "usersPerItem=defaultdict(set)\n",
    "items=set()\n",
    "itemCount=defaultdict(int) # keep track of total times an item is reviewed\n",
    "\n",
    "for review in train_data:\n",
    "    user=review['reviewerID']\n",
    "    item=review['asin']\n",
    "    itemsPerUser[user].add(item)\n",
    "    usersPerItem[item].add(user)\n",
    "    items.add(item)\n",
    "    itemCount[item]+=1\n",
    "\n",
    "    flist=[]\n",
    "    flist.append(user)\n",
    "    flist.append(item)\n",
    "    flist.append(review['overall'])\n",
    "    train_set.append(flist)\n",
    "\n",
    "\n",
    "for review in val_data:\n",
    "    flist=[]\n",
    "    flist.append(review['reviewerID'])\n",
    "    flist.append(review['asin'])\n",
    "    flist.append(review['overall'])\n",
    "    test_set.append(flist)\n",
    "\n"
   ]
  },
  {
   "cell_type": "markdown",
   "metadata": {},
   "source": [
    "# See \"simple bias only latent factor model\"\n",
    "https://cseweb.ucsd.edu//classes/fa20/cse258-a/code/workbook4.html\n",
    "\n",
    "This is a basic latent factor model from prev assignment (needs to be improved). Uses information only from user item pairs and ratings"
   ]
  },
  {
   "cell_type": "code",
   "execution_count": 141,
   "metadata": {},
   "outputs": [
    {
     "data": {
      "text/plain": [
       "4.442140790742527"
      ]
     },
     "execution_count": 141,
     "metadata": {},
     "output_type": "execute_result"
    }
   ],
   "source": [
    "labels= [int(d['overall']) for d in train_data]\n",
    "ratingMean = sum([int(d['overall']) for d in train_data]) / len(train_data)\n",
    "ratingMean"
   ]
  },
  {
   "cell_type": "code",
   "execution_count": 142,
   "metadata": {},
   "outputs": [
    {
     "data": {
      "text/plain": [
       "1.1367579747015757"
      ]
     },
     "execution_count": 142,
     "metadata": {},
     "output_type": "execute_result"
    }
   ],
   "source": [
    "def MSE(predictions, labels):\n",
    "    differences = [(x-y)**2 for x,y in zip(predictions,labels)]\n",
    "    return sum(differences) / len(differences)\n",
    "\n",
    "val_labels= [int(d['overall']) for d in val_data]\n",
    "alwaysMean=[ratingMean]*len(val_labels)\n",
    "baselineMSE=MSE(alwaysMean,val_labels)\n",
    "baselineMSE"
   ]
  },
  {
   "cell_type": "code",
   "execution_count": 136,
   "metadata": {},
   "outputs": [],
   "source": [
    "occurrences = collections.Counter(labels)\n",
    "trainmse_list=[]\n",
    "testmse_list=[]"
   ]
  },
  {
   "cell_type": "code",
   "execution_count": 132,
   "metadata": {},
   "outputs": [],
   "source": [
    "def get_test_preds(test_set):\n",
    "    X=[]\n",
    "    userSet=set(users)# doing this to improve lookup time\n",
    "    itemSet=set(items)\n",
    "    for  u,i,s in test_set:\n",
    "        y.append(s)\n",
    "        case_1=u in userSet\n",
    "        case_2=i in itemSet\n",
    "        if case_1 and case_2:\n",
    "            X.append(prediction(u,i))\n",
    "            continue\n",
    "        elif case_1 and not case_2:\n",
    "            p=alpha+userBiases[u]\n",
    "            if p<0:\n",
    "                p=0\n",
    "            if p>5:\n",
    "                p=5\n",
    "            X.append(p)\n",
    "            continue\n",
    "        elif case_2 and not case_1:\n",
    "            p=alpha+itemBiases[i]\n",
    "            if p<0:\n",
    "                p=0\n",
    "            if p>5:\n",
    "                p=5\n",
    "            X.append(p)\n",
    "            continue\n",
    "        else:\n",
    "            X.append(alpha)\n",
    "    return X,y"
   ]
  },
  {
   "cell_type": "code",
   "execution_count": 133,
   "metadata": {},
   "outputs": [],
   "source": [
    "\n",
    "N = len(train_set)\n",
    "nUsers = len(itemsPerUser)\n",
    "nItems = len(usersPerItem)\n",
    "users = list(itemsPerUser.keys())\n",
    "items = list(usersPerItem.keys())\n",
    "alpha = ratingMean\n",
    "\n",
    "userBiases = defaultdict(float)\n",
    "itemBiases = defaultdict(float)\n",
    "def prediction(user, item):\n",
    "    return alpha + userBiases[user] + itemBiases[item]\n",
    "\n",
    "def MSE(predictions, labels):\n",
    "    differences = [(x-y)**2 for x,y in zip(predictions,labels)]\n",
    "    return sum(differences) / len(differences)\n",
    "\n",
    "def unpack(theta):\n",
    "    global alpha\n",
    "    global userBiases\n",
    "    global itemBiases\n",
    "    alpha = theta[0]\n",
    "    userBiases = dict(zip(users, theta[1:nUsers+1]))\n",
    "    itemBiases = dict(zip(items, theta[1+nUsers:]))\n",
    "    \n",
    "def cost(theta, labels, lamb):\n",
    "    unpack(theta)\n",
    "    predictions = [prediction(d[0], d[1]) for d in train_set]\n",
    "    cost = MSE(predictions, labels)\n",
    "    test_preds,test_labels=get_test_preds(test_set)\n",
    "    mse_test=MSE(test_preds, test_labels)\n",
    "    trainmse_list.append(cost)\n",
    "    testmse_list.append(mse_test)\n",
    "    print(\"MSE = \" + str(cost))\n",
    "    for u in userBiases:\n",
    "        cost += lamb*userBiases[u]**2\n",
    "    for i in itemBiases:\n",
    "        cost += lamb*itemBiases[i]**2\n",
    "    return cost\n",
    "\n",
    "def derivative(theta, labels, lamb):\n",
    "    unpack(theta)\n",
    "    N = len(train_set)\n",
    "    dalpha = 0\n",
    "    dUserBiases = defaultdict(float)\n",
    "    dItemBiases = defaultdict(float)\n",
    "    for d in train_set:\n",
    "        u,i = d[0], d[1]\n",
    "        pred = prediction(u, i)\n",
    "        diff = pred - int(d[2])\n",
    "        dalpha += 2/N*diff\n",
    "        dUserBiases[u] += 2/N*diff\n",
    "        dItemBiases[i] += 2/N*diff\n",
    "    for u in userBiases:\n",
    "        dUserBiases[u] += 2*lamb*userBiases[u]\n",
    "    for i in itemBiases:\n",
    "        dItemBiases[i] += 2*lamb*itemBiases[i]\n",
    "    dtheta = [dalpha] + [dUserBiases[u] for u in users] + [dItemBiases[i] for i in items]\n",
    "    return np.array(dtheta)\n"
   ]
  },
  {
   "cell_type": "markdown",
   "metadata": {},
   "source": []
  },
  {
   "cell_type": "code",
   "execution_count": 11,
   "metadata": {},
   "outputs": [
    {
     "name": "stdout",
     "output_type": "stream",
     "text": [
      "MSE = 1.1308026933786226\n",
      "MSE = 1.123494643180019\n",
      "MSE = 1.3801577839909287\n",
      "MSE = 1.1219526597275666\n",
      "MSE = 1.1144653694943045\n",
      "MSE = 1.1137677095780343\n",
      "MSE = 1.1110799659060562\n",
      "MSE = 1.1019753271072044\n",
      "MSE = 1.0853022823796694\n",
      "MSE = 1.0712746448360957\n",
      "MSE = 1.0464222575040165\n",
      "MSE = 1.0342632561866645\n",
      "MSE = 1.0311546960455593\n",
      "MSE = 1.031264525691905\n",
      "MSE = 1.0288459044939853\n",
      "MSE = 1.0261955393259998\n",
      "MSE = 1.0232785110486933\n",
      "MSE = 1.024613985531601\n",
      "MSE = 1.0233062589108715\n",
      "MSE = 1.024146519274313\n",
      "MSE = 1.0232865330801724\n",
      "MSE = 1.0231201132102732\n",
      "MSE = 1.0231330902609403\n",
      "MSE = 1.0232722170502955\n",
      "MSE = 1.0230834381404676\n",
      "MSE = 1.0231411982457022\n",
      "MSE = 1.0229669499701335\n",
      "MSE = 1.0228033787692967\n",
      "MSE = 1.0226462128638882\n",
      "MSE = 1.0225521725230073\n",
      "MSE = 1.0225780320036422\n",
      "MSE = 1.022527852724066\n",
      "MSE = 1.0225537806828744\n",
      "MSE = 1.022587249789403\n",
      "MSE = 1.0226776380940696\n",
      "MSE = 1.022631136113244\n",
      "MSE = 1.0226527677596342\n",
      "MSE = 1.0226357415238818\n",
      "MSE = 1.0226138061896677\n",
      "MSE = 1.0225708108061429\n",
      "MSE = 1.0225500853429894\n",
      "MSE = 1.022572187154761\n",
      "MSE = 1.0226104960995719\n",
      "MSE = 1.0226010296574113\n",
      "MSE = 1.0226078061261903\n",
      "MSE = 1.0226021785080908\n",
      "MSE = 1.022599167938359\n",
      "MSE = 1.0226022751855222\n",
      "MSE = 1.022563892731049\n",
      "MSE = 1.0226106722011814\n",
      "MSE = 1.0226230751211804\n",
      "MSE = 1.0226009869225645\n",
      "MSE = 1.022602500423359\n",
      "MSE = 1.0226012686657309\n",
      "MSE = 1.0226024064200259\n",
      "MSE = 1.0225877815176587\n",
      "MSE = 1.0225859891352385\n",
      "MSE = 1.0225884783552812\n",
      "MSE = 1.022587728424208\n"
     ]
    },
    {
     "data": {
      "text/plain": [
       "(array([4.41754651e+00, 1.38768021e-02, 7.52129313e-03, ...,\n",
       "        1.67582618e-03, 6.30508625e-03, 5.96515691e-03]),\n",
       " 1.0654853592995777,\n",
       " {'grad': array([-6.46130275e-06,  1.10523183e-09,  8.17370982e-11, ...,\n",
       "          2.75804715e-10, -4.44652679e-09, -1.00949612e-09]),\n",
       "  'task': b'CONVERGENCE: NORM_OF_PROJECTED_GRADIENT_<=_PGTOL',\n",
       "  'funcalls': 59,\n",
       "  'nit': 50,\n",
       "  'warnflag': 0})"
      ]
     },
     "execution_count": 11,
     "metadata": {},
     "output_type": "execute_result"
    }
   ],
   "source": [
    "\n",
    "#basic  latent factor model from prev assignment (needs to be improved)\n",
    "scipy.optimize.fmin_l_bfgs_b(cost, [alpha] + [0.0]*(nUsers+nItems),\n",
    "                             derivative, args = (labels, .0001))"
   ]
  },
  {
   "cell_type": "code",
   "execution_count": 130,
   "metadata": {},
   "outputs": [],
   "source": [
    "X=[]\n",
    "y=[]\n",
    "cnt=0\n",
    "userSet=set(users)# doing this to improve search speed\n",
    "itemSet=set(items)\n",
    "for  u,i,s in test_set:\n",
    "    # if cnt%1000==0:\n",
    "    #     print(cnt)\n",
    "    # cnt+=1\n",
    "    y.append(s)\n",
    "    case_1=u in userSet\n",
    "    case_2=i in itemSet\n",
    "    if case_1 and case_2:\n",
    "        X.append(prediction(u,i))\n",
    "        continue\n",
    "    elif case_1 and not case_2:\n",
    "        p=alpha+userBiases[u]\n",
    "        if p<0:\n",
    "            p=0\n",
    "        if p>5:\n",
    "            p=5\n",
    "        X.append(p)\n",
    "        continue\n",
    "    elif case_2 and not case_1:\n",
    "        p=alpha+itemBiases[i]\n",
    "        if p<0:\n",
    "            p=0\n",
    "        if p>5:\n",
    "            p=5\n",
    "        X.append(p)\n",
    "        continue\n",
    "    else:\n",
    "        X.append(alpha)\n",
    "    "
   ]
  },
  {
   "cell_type": "code",
   "execution_count": 131,
   "metadata": {},
   "outputs": [
    {
     "data": {
      "text/plain": [
       "1.061770693765833"
      ]
     },
     "execution_count": 131,
     "metadata": {},
     "output_type": "execute_result"
    }
   ],
   "source": [
    "MSE_val=MSE(X,y)\n",
    "MSE_val"
   ]
  },
  {
   "cell_type": "markdown",
   "metadata": {},
   "source": [
    "## Item2vect rating prediction based on chapter 8.5 \n",
    "https://cseweb.ucsd.edu/~jmcauley/pml/code/chap8.html"
   ]
  },
  {
   "cell_type": "code",
   "execution_count": 29,
   "metadata": {},
   "outputs": [
    {
     "data": {
      "text/plain": [
       "{'overall': 5.0,\n",
       " 'verified': True,\n",
       " 'reviewTime': '02 12, 2016',\n",
       " 'reviewerID': 'A2I5E58DMYF3E1',\n",
       " 'asin': 'B0042GZXNM',\n",
       " 'reviewerName': 'Shell.',\n",
       " 'reviewText': 'Very yummy candy.  Was given to my husband as a gift and he was thrilled.',\n",
       " 'summary': 'Very yummy candy. Was given to my husband as ...',\n",
       " 'unixReviewTime': 1455235200,\n",
       " 'hasImage': 0}"
      ]
     },
     "execution_count": 29,
     "metadata": {},
     "output_type": "execute_result"
    }
   ],
   "source": [
    "train_data[0]"
   ]
  },
  {
   "cell_type": "code",
   "execution_count": 49,
   "metadata": {},
   "outputs": [],
   "source": [
    "ratingMean = sum([d['overall'] for d in train_data]) / len(train_data)"
   ]
  },
  {
   "cell_type": "code",
   "execution_count": 165,
   "metadata": {},
   "outputs": [],
   "source": [
    "reviewsPerUser = defaultdict(list)\n",
    "itemAverages = defaultdict(list)\n",
    "\n",
    "data = []\n",
    "reviews = []\n",
    "reviewDicts = []\n",
    "for d in train_data:  \n",
    "    reviews.append(d['reviewText'])\n",
    "    reviewsPerUser[d['reviewerID']].append((d['unixReviewTime'], d['asin']))\n",
    "    itemAverages[i].append(d['overall'])\n",
    "    reviewDicts.append(d)\n",
    "\n",
    "for i in itemAverages:\n",
    "    itemAverages[i] = sum(itemAverages[i]) / len(itemAverages[i])\n",
    "        "
   ]
  },
  {
   "cell_type": "code",
   "execution_count": 166,
   "metadata": {},
   "outputs": [
    {
     "name": "stdout",
     "output_type": "stream",
     "text": [
      "[(1449619200, 'B00F4WIL8C'), (1449619200, 'B00K0OYRUK'), (1455235200, 'B0042GZXNM'), (1455235200, 'B004T33F3I'), (1456272000, 'B0042GSLRW'), (1456272000, 'B00DLN8LLS')]\n",
      "['B00F4WIL8C', 'B00K0OYRUK', 'B0042GZXNM', 'B004T33F3I', 'B0042GSLRW', 'B00DLN8LLS']\n"
     ]
    },
    {
     "ename": "NameError",
     "evalue": "name 'ggh' is not defined",
     "output_type": "error",
     "traceback": [
      "\u001b[1;31m---------------------------------------------------------------------------\u001b[0m",
      "\u001b[1;31mNameError\u001b[0m                                 Traceback (most recent call last)",
      "\u001b[1;32m<ipython-input-166-991342ab7d89>\u001b[0m in \u001b[0;36m<module>\u001b[1;34m\u001b[0m\n\u001b[0;32m      5\u001b[0m     \u001b[0mprint\u001b[0m\u001b[1;33m(\u001b[0m\u001b[0mrl\u001b[0m\u001b[1;33m)\u001b[0m\u001b[1;33m\u001b[0m\u001b[1;33m\u001b[0m\u001b[0m\n\u001b[0;32m      6\u001b[0m     \u001b[0mprint\u001b[0m\u001b[1;33m(\u001b[0m\u001b[1;33m[\u001b[0m\u001b[0mx\u001b[0m\u001b[1;33m[\u001b[0m\u001b[1;36m1\u001b[0m\u001b[1;33m]\u001b[0m \u001b[1;32mfor\u001b[0m \u001b[0mx\u001b[0m \u001b[1;32min\u001b[0m \u001b[0mrl\u001b[0m\u001b[1;33m]\u001b[0m\u001b[1;33m)\u001b[0m\u001b[1;33m\u001b[0m\u001b[1;33m\u001b[0m\u001b[0m\n\u001b[1;32m----> 7\u001b[1;33m     \u001b[0mprint\u001b[0m\u001b[1;33m(\u001b[0m\u001b[0mggh\u001b[0m\u001b[1;33m)\u001b[0m\u001b[1;33m\u001b[0m\u001b[1;33m\u001b[0m\u001b[0m\n\u001b[0m\u001b[0;32m      8\u001b[0m     \u001b[1;32mbreak\u001b[0m\u001b[1;33m\u001b[0m\u001b[1;33m\u001b[0m\u001b[0m\n\u001b[0;32m      9\u001b[0m     \u001b[0mreviewLists\u001b[0m\u001b[1;33m.\u001b[0m\u001b[0mappend\u001b[0m\u001b[1;33m(\u001b[0m\u001b[1;33m[\u001b[0m\u001b[0mx\u001b[0m\u001b[1;33m[\u001b[0m\u001b[1;36m1\u001b[0m\u001b[1;33m]\u001b[0m \u001b[1;32mfor\u001b[0m \u001b[0mx\u001b[0m \u001b[1;32min\u001b[0m \u001b[0mrl\u001b[0m\u001b[1;33m]\u001b[0m\u001b[1;33m)\u001b[0m\u001b[1;33m\u001b[0m\u001b[1;33m\u001b[0m\u001b[0m\n",
      "\u001b[1;31mNameError\u001b[0m: name 'ggh' is not defined"
     ]
    }
   ],
   "source": [
    "reviewLists = []\n",
    "for u in reviewsPerUser:\n",
    "    rl = list(reviewsPerUser[u])\n",
    "    rl.sort()\n",
    "    print(rl)\n",
    "    print([x[1] for x in rl])\n",
    "    print(ggh)\n",
    "    break\n",
    "    reviewLists.append([x[1] for x in rl])\n"
   ]
  },
  {
   "cell_type": "code",
   "execution_count": 157,
   "metadata": {},
   "outputs": [
    {
     "data": {
      "text/plain": [
       "[['B00F4WIL8C',\n",
       "  'B00K0OYRUK',\n",
       "  'B0042GZXNM',\n",
       "  'B004T33F3I',\n",
       "  'B0042GSLRW',\n",
       "  'B00DLN8LLS'],\n",
       " ['B000QX948U', 'B0014WYXYW', 'B0014WYXYW', 'B001LFABO8', 'B004A7AEA0']]"
      ]
     },
     "execution_count": 157,
     "metadata": {},
     "output_type": "execute_result"
    }
   ],
   "source": [
    "reviewLists[:2]"
   ]
  },
  {
   "cell_type": "code",
   "execution_count": 80,
   "metadata": {},
   "outputs": [],
   "source": [
    "model10 = Word2Vec(reviewLists,\n",
    "                 min_count=2, # Words/items with fewer instances are discarded\n",
    "                 vector_size=20, # Model dimensionality\n",
    "                 window=3, # Window size\n",
    "                 sg=1) # Skip-gram model"
   ]
  },
  {
   "cell_type": "code",
   "execution_count": 81,
   "metadata": {},
   "outputs": [],
   "source": [
    "itemAverages = defaultdict(list)\n",
    "reviewsPerUser = defaultdict(list)\n",
    "    \n",
    "for d in train_data:\n",
    "    u = d['reviewerID']\n",
    "    i = d['asin']\n",
    "    itemAverages[i].append(d['overall'])\n",
    "    reviewsPerUser[u].append(d)\n",
    "    \n",
    "for i in itemAverages:\n",
    "    itemAverages[i] = sum(itemAverages[i]) / len(itemAverages[i])"
   ]
  },
  {
   "cell_type": "code",
   "execution_count": 82,
   "metadata": {},
   "outputs": [],
   "source": [
    "def predictRating(user,item):\n",
    "    ratings = []\n",
    "    similarities = []\n",
    "    if not str(item) in model10.wv:\n",
    "        return ratingMean\n",
    "    for d in reviewsPerUser[user]:\n",
    "        i2 = d['asin']\n",
    "        if i2 == item: continue\n",
    "        ratings.append(d['overall'] - itemAverages[i2])\n",
    "        if str(i2) in model10.wv:\n",
    "            similarities.append(model10.wv.distance(str(item), str(i2)))\n",
    "    if (sum(similarities) > 0):\n",
    "        weightedRatings = [(x*y) for x,y in zip(ratings,similarities)]\n",
    "        return itemAverages[item] + sum(weightedRatings) / sum(similarities)\n",
    "    else:\n",
    "        return ratingMean"
   ]
  },
  {
   "cell_type": "code",
   "execution_count": 83,
   "metadata": {},
   "outputs": [],
   "source": [
    "predictions = [predictRating(d['reviewerID'],d['asin']) for d in val_data]"
   ]
  },
  {
   "cell_type": "code",
   "execution_count": 84,
   "metadata": {},
   "outputs": [],
   "source": [
    "val_y=[d['overall'] for d in val_data]"
   ]
  },
  {
   "cell_type": "code",
   "execution_count": 85,
   "metadata": {},
   "outputs": [
    {
     "data": {
      "text/plain": [
       "1.1495287838469772"
      ]
     },
     "execution_count": 85,
     "metadata": {},
     "output_type": "execute_result"
    }
   ],
   "source": [
    "item2vectMSE=MSE(predictions,val_y)\n",
    "item2vectMSE"
   ]
  },
  {
   "cell_type": "code",
   "execution_count": null,
   "metadata": {},
   "outputs": [],
   "source": []
  },
  {
   "cell_type": "code",
   "execution_count": 89,
   "metadata": {},
   "outputs": [
    {
     "name": "stdout",
     "output_type": "stream",
     "text": [
      "5 1.1448871165243772\n",
      "7 1.1398976027529528\n",
      "10 1.1445327410141317\n",
      "Best MSE:  1.1398976027529528\n",
      "best_min_count 7\n"
     ]
    }
   ],
   "source": [
    "best_min_count=0\n",
    "bestmse=10.0\n",
    "for i in [5,7,10]:\n",
    "    model10 = Word2Vec(reviewLists,\n",
    "                 min_count=i, # Words/items with fewer instances are discarded\n",
    "                 vector_size=10, # Model dimensionality\n",
    "                 window=3, # Window size\n",
    "                 sg=1) # Skip-gram model\n",
    "    predictions = [predictRating(d['reviewerID'],d['asin']) for d in val_data]\n",
    "    item2vectMSE=MSE(predictions,val_y)\n",
    "    print(i,item2vectMSE)\n",
    "    if item2vectMSE<bestmse:\n",
    "        bestmse=item2vectMSE\n",
    "        best_min_count=i\n",
    "print(\"Best MSE: \",bestmse)\n",
    "print('best_min_count',best_min_count)\n",
    "    \n",
    "    "
   ]
  },
  {
   "cell_type": "code",
   "execution_count": 92,
   "metadata": {},
   "outputs": [
    {
     "name": "stdout",
     "output_type": "stream",
     "text": [
      "40 1.119184064718971\n",
      "75 1.1178892833309342\n",
      "150 1.1187175645839997\n",
      "Best MSE:  1.1178892833309342\n",
      "best dimensionality:  75\n"
     ]
    }
   ],
   "source": [
    "bestmse=10.0\n",
    "best_vsize=0\n",
    "for i in [40,75,150]:\n",
    "    model10 = Word2Vec(reviewLists,\n",
    "                 min_count=best_min_count, # Words/items with fewer instances are discarded\n",
    "                 vector_size=i, # Model dimensionality\n",
    "                 window=3, # Window size\n",
    "                 sg=1) # Skip-gram model\n",
    "    predictions = [predictRating(d['reviewerID'],d['asin']) for d in val_data]\n",
    "    item2vectMSE=MSE(predictions,val_y)\n",
    "    print(i,item2vectMSE)\n",
    "    if item2vectMSE<bestmse:\n",
    "        bestmse=item2vectMSE\n",
    "        best_vsize=i\n",
    "print(\"Best MSE: \",bestmse)\n",
    "print('best dimensionality: ',best_vsize)"
   ]
  },
  {
   "cell_type": "code",
   "execution_count": 143,
   "metadata": {},
   "outputs": [
    {
     "name": "stdout",
     "output_type": "stream",
     "text": [
      "1 1.130595224968943\n",
      "2 1.1223753452841718\n",
      "3 1.1180897193779304\n",
      "4 1.1164537668870351\n",
      "6 1.1150721623300248\n",
      "8 1.114856081099899\n",
      "10 1.1138654500837424\n",
      "15 1.1122792917057345\n",
      "Best MSE:  1.1122792917057345\n",
      "best window:  15\n"
     ]
    }
   ],
   "source": [
    "bestmse=10.0\n",
    "best_window=0\n",
    "for i in [1,2,3,4,6,8,10,15]:\n",
    "    model10 = Word2Vec(reviewLists,\n",
    "                 min_count=best_min_count, # Words/items with fewer instances are discarded\n",
    "                 vector_size=best_vsize, # Model dimensionality\n",
    "                 window=i, # Window size\n",
    "                 sg=1) # Skip-gram model\n",
    "    predictions = [predictRating(d['reviewerID'],d['asin']) for d in val_data]\n",
    "    item2vectMSE=MSE(predictions,val_y)\n",
    "    print(i,item2vectMSE)\n",
    "    if item2vectMSE<bestmse:\n",
    "        bestmse=item2vectMSE\n",
    "        best_window=i\n",
    "print(\"Best MSE: \",bestmse)\n",
    "print('best window: ',best_window)"
   ]
  },
  {
   "cell_type": "code",
   "execution_count": 144,
   "metadata": {},
   "outputs": [
    {
     "name": "stdout",
     "output_type": "stream",
     "text": [
      "1 1.1123156252742379\n",
      "2 1.112202919121322\n",
      "3 1.1122999278512766\n",
      "5 1.1119852563753378\n",
      "Best MSE:  1.1119852563753378\n",
      "best sg:  5\n"
     ]
    }
   ],
   "source": [
    "bestmse=10.0\n",
    "best_sg=0\n",
    "for i in [1,2,3,5]:\n",
    "    model10 = Word2Vec(reviewLists,\n",
    "                 min_count=best_min_count, # Words/items with fewer instances are discarded\n",
    "                 vector_size=best_vsize, # Model dimensionality\n",
    "                 window=best_window, # Window size\n",
    "                 sg=i) # Skip-gram model\n",
    "    predictions = [predictRating(d['reviewerID'],d['asin']) for d in val_data]\n",
    "    item2vectMSE=MSE(predictions,val_y)\n",
    "    print(i,item2vectMSE)\n",
    "    if item2vectMSE<bestmse:\n",
    "        bestmse=item2vectMSE\n",
    "        best_sg=i\n",
    "print(\"Best MSE: \",bestmse)\n",
    "print('best sg: ',best_sg)"
   ]
  },
  {
   "cell_type": "code",
   "execution_count": 137,
   "metadata": {},
   "outputs": [
    {
     "name": "stdout",
     "output_type": "stream",
     "text": [
      "MSE = 1.1314075719598384\n",
      "MSE = 2.05313483971613\n",
      "MSE = 1.1307649738557053\n",
      "MSE = 1.1307282599972748\n",
      "MSE = 1.1305818192266248\n",
      "MSE = 1.1300026907402028\n",
      "MSE = 1.127792330335482\n",
      "MSE = 1.0979551227349242\n",
      "MSE = 1.0778581132065521\n",
      "MSE = 1.0576590216401627\n",
      "MSE = 1.0520503655768219\n",
      "MSE = 1.0443886090254975\n",
      "MSE = 1.036073908102167\n",
      "MSE = 1.0263962470162253\n",
      "MSE = 1.0228488494052232\n",
      "MSE = 1.0250127661054311\n",
      "MSE = 1.0252198995271176\n",
      "MSE = 1.0245157635342867\n",
      "MSE = 1.0557573240594558\n",
      "MSE = 1.0244994607628946\n",
      "MSE = 1.0236172315571768\n",
      "MSE = 1.0231615873264615\n",
      "MSE = 1.022784743477697\n",
      "MSE = 1.0225284110548123\n",
      "MSE = 1.0226255134013615\n",
      "MSE = 1.0225574465791194\n",
      "MSE = 1.0227048172048\n",
      "MSE = 1.0227574411406142\n",
      "MSE = 1.0227254665400345\n",
      "MSE = 1.022657693473297\n",
      "MSE = 1.0226211533868168\n",
      "MSE = 1.022577530767866\n",
      "MSE = 1.022519993613212\n",
      "MSE = 1.022551906246914\n",
      "MSE = 1.0225493861216741\n",
      "MSE = 1.0225649232419651\n",
      "MSE = 1.0225793321498566\n",
      "MSE = 1.0226060161285757\n",
      "MSE = 1.022613651262331\n",
      "MSE = 1.0226154460177797\n",
      "MSE = 1.0226111361201546\n",
      "MSE = 1.0226046601819043\n",
      "MSE = 1.0225963463656258\n",
      "MSE = 1.0226817998075501\n",
      "MSE = 1.0225982191123968\n"
     ]
    }
   ],
   "source": [
    "scipy.optimize.fmin_l_bfgs_b(cost, [alpha] + [0.0]*(nUsers+nItems),\n",
    "                             derivative, args = (labels, .0001))\n",
    "model10 = Word2Vec(reviewLists,\n",
    "                min_count=best_min_count, # Words/items with fewer instances are discarded\n",
    "                vector_size=best_vsize, # Model dimensionality\n",
    "                window=best_window, # Window size\n",
    "                sg=best_sg) # Skip-gram model\n",
    "\n",
    "\n"
   ]
  },
  {
   "cell_type": "code",
   "execution_count": 153,
   "metadata": {},
   "outputs": [
    {
     "data": {
      "image/png": "[encoded data removed]",
      "text/plain": [
       "<Figure size 432x288 with 1 Axes>"
      ]
     },
     "metadata": {
      "needs_background": "light"
     },
     "output_type": "display_data"
    }
   ],
   "source": [
    "xdata=np.arange(len(trainmse_list))\n",
    "baseline=np.full(xdata.shape,1.149)\n",
    "plt.plot(xdata, trainmse_list, label = \"Train MSE\")\n",
    "plt.plot(xdata, testmse_list, label = \"Valid MSE\")\n",
    "plt.plot(xdata,baseline,'k',label=\"Baseline\")\n",
    "plt.plot()\n",
    "plt.xlabel('Epoch')\n",
    "plt.ylabel('MSE')\n",
    "plt.legend()\n",
    "plt.grid()\n",
    "plt.show()\n",
    "\n"
   ]
  },
  {
   "cell_type": "code",
   "execution_count": 149,
   "metadata": {},
   "outputs": [
    {
     "data": {
      "text/plain": [
       "(45,)"
      ]
     },
     "execution_count": 149,
     "metadata": {},
     "output_type": "execute_result"
    }
   ],
   "source": [
    "xdata.shape"
   ]
  },
  {
   "cell_type": "code",
   "execution_count": 96,
   "metadata": {},
   "outputs": [],
   "source": [
    "X=[]\n",
    "y=[]\n",
    "cnt=0\n",
    "userSet=set(users)# doing this to improve search speed\n",
    "itemSet=set(items)\n",
    "for  u,i,s in train_set:\n",
    "    # if cnt%1000==0:\n",
    "    #     print(cnt)\n",
    "    # cnt+=1\n",
    "    y.append(s)\n",
    "    case_1=u in userSet\n",
    "    case_2=i in itemSet\n",
    "    if case_1 and case_2:\n",
    "        X.append(prediction(u,i))\n",
    "        continue\n",
    "    elif case_1 and not case_2:\n",
    "        p=alpha+userBiases[u]\n",
    "        if p<0:\n",
    "            p=0\n",
    "        if p>5:\n",
    "            p=5\n",
    "        X.append(p)\n",
    "        continue\n",
    "    elif case_2 and not case_1:\n",
    "        p=alpha+itemBiases[i]\n",
    "        if p<0:\n",
    "            p=0\n",
    "        if p>5:\n",
    "            p=5\n",
    "        X.append(p)\n",
    "        continue\n",
    "    else:\n",
    "        X.append(alpha)\n"
   ]
  },
  {
   "cell_type": "code",
   "execution_count": null,
   "metadata": {},
   "outputs": [],
   "source": []
  },
  {
   "cell_type": "code",
   "execution_count": 107,
   "metadata": {},
   "outputs": [],
   "source": [
    "xlatent_preds=X\n",
    "xitem_preds=[predictRating(d['reviewerID'],d['asin']) for d in train_data]\n"
   ]
  },
  {
   "cell_type": "code",
   "execution_count": 109,
   "metadata": {},
   "outputs": [],
   "source": [
    "X=[]\n",
    "y=[]\n",
    "cnt=0\n",
    "userSet=set(users)# doing this to improve search speed\n",
    "itemSet=set(items)\n",
    "for  u,i,s in test_set:\n",
    "    # if cnt%1000==0:\n",
    "    #     print(cnt)\n",
    "    # cnt+=1\n",
    "    y.append(s)\n",
    "    case_1=u in userSet\n",
    "    case_2=i in itemSet\n",
    "    if case_1 and case_2:\n",
    "        X.append(prediction(u,i))\n",
    "        continue\n",
    "    elif case_1 and not case_2:\n",
    "        p=alpha+userBiases[u]\n",
    "        if p<0:\n",
    "            p=0\n",
    "        if p>5:\n",
    "            p=5\n",
    "        X.append(p)\n",
    "        continue\n",
    "    elif case_2 and not case_1:\n",
    "        p=alpha+itemBiases[i]\n",
    "        if p<0:\n",
    "            p=0\n",
    "        if p>5:\n",
    "            p=5\n",
    "        X.append(p)\n",
    "        continue\n",
    "    else:\n",
    "        X.append(alpha)"
   ]
  },
  {
   "cell_type": "code",
   "execution_count": 110,
   "metadata": {},
   "outputs": [],
   "source": [
    "x_testlatent_preds=X\n",
    "x_testitem_preds=[predictRating(d['reviewerID'],d['asin']) for d in val_data]"
   ]
  },
  {
   "cell_type": "code",
   "execution_count": 111,
   "metadata": {},
   "outputs": [],
   "source": [
    "ytrain=[float(d['overall']) for d in train_data]\n",
    "ytest=[float(d['overall']) for d in val_data]"
   ]
  },
  {
   "cell_type": "code",
   "execution_count": 112,
   "metadata": {},
   "outputs": [],
   "source": [
    "trainX=[]\n",
    "testX=[]\n",
    "for p1,p2 in zip(xlatent_preds,xitem_preds):\n",
    "    entry=[1]\n",
    "    entry.append(p1)\n",
    "    entry.append(p2)\n",
    "    trainX.append(entry)\n",
    "for p1,p2 in zip(x_testlatent_preds,x_testitem_preds):\n",
    "    entry=[1]\n",
    "    entry.append(p1)\n",
    "    entry.append(p2)\n",
    "    testX.append(entry)"
   ]
  },
  {
   "cell_type": "code",
   "execution_count": 113,
   "metadata": {},
   "outputs": [
    {
     "data": {
      "text/plain": [
       "[1, 4.45770421274468, 3.5192083803421177]"
      ]
     },
     "execution_count": 113,
     "metadata": {},
     "output_type": "execute_result"
    }
   ],
   "source": [
    "testX[0]"
   ]
  },
  {
   "cell_type": "code",
   "execution_count": 115,
   "metadata": {},
   "outputs": [],
   "source": [
    "model = linear_model.LinearRegression()\n",
    "model.fit(trainX,ytrain)\n",
    "yPred = model.predict(testX)\n",
    "EnsembleMSE = MSE(yPred, ytest)"
   ]
  },
  {
   "cell_type": "code",
   "execution_count": 116,
   "metadata": {},
   "outputs": [
    {
     "data": {
      "text/plain": [
       "0.9955440470942178"
      ]
     },
     "execution_count": 116,
     "metadata": {},
     "output_type": "execute_result"
    }
   ],
   "source": [
    "EnsembleMSE"
   ]
  },
  {
   "cell_type": "code",
   "execution_count": null,
   "metadata": {},
   "outputs": [],
   "source": []
  },
  {
   "cell_type": "code",
   "execution_count": 179,
   "metadata": {},
   "outputs": [],
   "source": [
    "t_data=train_data[:50000]"
   ]
  },
  {
   "cell_type": "code",
   "execution_count": 180,
   "metadata": {},
   "outputs": [],
   "source": [
    "punctuation = set(string.punctuation)\n",
    "\n",
    "def feature(datum, words, wordId, tolower=True, removePunct=True):\n",
    "    feat = [0]*len(words)\n",
    "    r = datum['reviewText']\n",
    "    if tolower:\n",
    "        r = r.lower()\n",
    "    if removePunct:\n",
    "        r = ''.join([c for c in r if not c in punctuation])\n",
    "    for w in r.split():\n",
    "        if w in words:\n",
    "            feat[wordId[w]] += 1\n",
    "    feat.append(1) # offset\n",
    "    return feat"
   ]
  },
  {
   "cell_type": "code",
   "execution_count": 181,
   "metadata": {},
   "outputs": [],
   "source": [
    "def pipeline(dSize = 1000, tolower=True, removePunct=True):\n",
    "    wordCount = defaultdict(int)\n",
    "    punctuation = set(string.punctuation)\n",
    "    for d in t_data: # Strictly, should just use the *training* data to extract word counts\n",
    "        r = d['reviewText']\n",
    "        if tolower:\n",
    "            r = r.lower()\n",
    "        if removePunct:\n",
    "            r = ''.join([c for c in r if not c in punctuation])\n",
    "        for w in r.split():\n",
    "            wordCount[w] += 1\n",
    "\n",
    "    counts = [(wordCount[w], w) for w in wordCount]\n",
    "    counts.sort()\n",
    "    counts.reverse()\n",
    "    \n",
    "    words = [x[1] for x in counts[:dSize]]\n",
    "    \n",
    "    wordId = dict(zip(words, range(len(words))))\n",
    "    wordSet = set(words)\n",
    "    \n",
    "    X = [feature(d, words, wordId, tolower, removePunct) for d in t_data]\n",
    "    y = [d['overall'] for d in t_data]\n",
    "    \n",
    "    Ntrain,Nvalid,Ntest = 40000,5000,5000\n",
    "    Xtrain,Xvalid,Xtest = X[:Ntrain],X[Ntrain:Ntrain+Nvalid],X[Ntrain+Nvalid:]\n",
    "    ytrain,yvalid,ytest = y[:Ntrain],y[Ntrain:Ntrain+Nvalid],y[Ntrain+Nvalid:]\n",
    "    \n",
    "    bestModel = None\n",
    "    bestVal = None\n",
    "    bestLamb = None\n",
    "    \n",
    "    ls = [0.01, 0.1, 1, 10, 100, 1000, 10000]\n",
    "    errorTrain = []\n",
    "    errorValid = []\n",
    "\n",
    "    for l in ls:\n",
    "        model = sklearn.linear_model.Ridge(l)\n",
    "        model.fit(Xtrain, ytrain)\n",
    "        predictTrain = model.predict(Xtrain)\n",
    "        MSEtrain = sum((ytrain - predictTrain)**2)/len(ytrain)\n",
    "        errorTrain.append(MSEtrain)\n",
    "        predictValid = model.predict(Xvalid)\n",
    "        MSEvalid = sum((yvalid - predictValid)**2)/len(yvalid)\n",
    "        errorValid.append(MSEvalid)\n",
    "        print(\"l = \" + str(l) + \", validation MSE = \" + str(MSEvalid))\n",
    "        if bestVal == None or MSEvalid < bestVal:\n",
    "            bestVal = MSEvalid\n",
    "            bestModel = model\n",
    "            bestLamb = l\n",
    "            \n",
    "    predictTest = bestModel.predict(Xtest)\n",
    "    MSEtest = sum((ytest - predictTest)**2)/len(ytest)\n",
    "    MSEtest\n",
    "    \n",
    "    plt.xticks([])\n",
    "    plt.xlabel(r\"$\\lambda$\")\n",
    "    plt.ylabel(r\"error (MSE)\")\n",
    "    plt.title(r\"Validation Pipeline\")\n",
    "    plt.xscale('log')\n",
    "    plt.plot(ls, errorTrain, color='k', linestyle='--', label='training error')\n",
    "    plt.plot(ls, errorValid, color='grey',zorder=4,label=\"validation error\")\n",
    "    plt.plot([bestLamb], [MSEtest], linestyle='', marker='x', color='k', label=\"test error\")\n",
    "    plt.legend(loc='best')\n",
    "    plt.show()"
   ]
  },
  {
   "cell_type": "code",
   "execution_count": 184,
   "metadata": {},
   "outputs": [
    {
     "name": "stdout",
     "output_type": "stream",
     "text": [
      "l = 0.01, validation MSE = 0.8303432543934889\n",
      "l = 0.1, validation MSE = 0.8302467581070676\n",
      "l = 1, validation MSE = 0.829305963784672\n",
      "l = 10, validation MSE = 0.8218627492805712\n",
      "l = 100, validation MSE = 0.8074688344514782\n",
      "l = 1000, validation MSE = 0.8552356498836075\n",
      "l = 10000, validation MSE = 0.9545895094490535\n"
     ]
    },
    {
     "data": {
      "image/png": "[encoded data removed]",
      "text/plain": [
       "<Figure size 432x288 with 1 Axes>"
      ]
     },
     "metadata": {
      "needs_background": "light"
     },
     "output_type": "display_data"
    }
   ],
   "source": [
    "pipeline(2000, False, False)"
   ]
  },
  {
   "cell_type": "code",
   "execution_count": 185,
   "metadata": {},
   "outputs": [
    {
     "name": "stdout",
     "output_type": "stream",
     "text": [
      "l = 0.01, validation MSE = 0.8049243750007515\n",
      "l = 0.1, validation MSE = 0.8047815507807689\n",
      "l = 1, validation MSE = 0.8033914406411887\n",
      "l = 10, validation MSE = 0.7925206104874164\n",
      "l = 100, validation MSE = 0.7686069658995609\n",
      "l = 1000, validation MSE = 0.8085172452579312\n",
      "l = 10000, validation MSE = 0.9114140098538668\n"
     ]
    },
    {
     "data": {
      "image/png": "[encoded data removed]",
      "text/plain": [
       "<Figure size 432x288 with 1 Axes>"
      ]
     },
     "metadata": {
      "needs_background": "light"
     },
     "output_type": "display_data"
    }
   ],
   "source": [
    "pipeline(2000, True, True)"
   ]
  },
  {
   "cell_type": "code",
   "execution_count": null,
   "metadata": {},
   "outputs": [],
   "source": []
  }
 ],
 "metadata": {
  "interpreter": {
   "hash": "5e3abd38b0175449e66dcb706d52ad9e71dd92443e43314c772b1f826141991c"
  },
  "kernelspec": {
   "display_name": "Python 3.8.3 64-bit ('base': conda)",
   "name": "python3"
  },
  "language_info": {
   "codemirror_mode": {
    "name": "ipython",
    "version": 3
   },
   "file_extension": ".py",
   "mimetype": "text/x-python",
   "name": "python",
   "nbconvert_exporter": "python",
   "pygments_lexer": "ipython3",
   "version": "3.8.3"
  },
  "orig_nbformat": 4
 },
 "nbformat": 4,
 "nbformat_minor": 2
}
