{
 "cells": [
  {
   "cell_type": "code",
   "execution_count": 1,
   "metadata": {},
   "outputs": [],
   "source": [
    "import gzip\n",
    "from collections import defaultdict\n",
    "from sklearn import linear_model\n",
    "import csv\n",
    "import random\n",
    "import numpy as np\n",
    "import pickle\n",
    "\n",
    "import os\n",
    "import json\n",
    "import pandas as pd\n",
    "import copy\n",
    "import random\n",
    "\n",
    "import scipy\n",
    "import scipy.optimize\n",
    "\n",
    "import collections"
   ]
  },
  {
   "cell_type": "code",
   "execution_count": 2,
   "metadata": {},
   "outputs": [
    {
     "name": "stdout",
     "output_type": "stream",
     "text": [
      "1143860\n",
      "{'overall': 5.0, 'verified': True, 'reviewTime': '11 19, 2014', 'reviewerID': 'A1QVBUH9E1V6I8', 'asin': '4639725183', 'reviewerName': 'Jamshed Mathur', 'reviewText': 'No adverse comment.', 'summary': 'Five Stars', 'unixReviewTime': 1416355200}\n"
     ]
    }
   ],
   "source": [
    "data = []\n",
    "with gzip.open('data\\Grocery_and_Gourmet_Food_5.json.gz') as f:\n",
    "    for l in f:\n",
    "        data.append(json.loads(l.strip()))\n",
    "    \n",
    "# total length of list, this number equals total number of products\n",
    "print(len(data))\n",
    "\n",
    "# first row of the list\n",
    "print(data[0])"
   ]
  },
  {
   "cell_type": "code",
   "execution_count": 3,
   "metadata": {},
   "outputs": [],
   "source": [
    "required_vals=['overall','verified','reviewTime','reviewerID','asin','reviewText','summary','unixReviewTime']\n",
    "data_cleaned=[]\n",
    "cnt=0\n",
    "imgcnt=0\n",
    "for d in data: \n",
    "    add=True \n",
    "    for i in required_vals:\n",
    "        if i not in d:\n",
    "            add=False \n",
    "    if add:\n",
    "        dcopy=copy.deepcopy(d) #not sure if this is really needed, will most likely remove\n",
    "        if 'image' in dcopy:\n",
    "            imgcnt+=1\n",
    "            dcopy['hasImage']=1\n",
    "        else:\n",
    "            dcopy['hasImage']=0\n",
    "        data_cleaned.append(dcopy)\n",
    "\n",
    "\n",
    "    "
   ]
  },
  {
   "cell_type": "code",
   "execution_count": 4,
   "metadata": {},
   "outputs": [
    {
     "name": "stdout",
     "output_type": "stream",
     "text": [
      "9474\n"
     ]
    }
   ],
   "source": [
    "print(imgcnt)\n",
    "#this is  small so the image feature might be useless "
   ]
  },
  {
   "cell_type": "code",
   "execution_count": 5,
   "metadata": {},
   "outputs": [],
   "source": [
    "#shuffle dataset\n",
    "random.shuffle(data_cleaned)\n",
    "train_data=data_cleaned[:int((len(data_cleaned)+1)*.80)]\n",
    "val_data=data_cleaned[int((len(data_cleaned)+1)*.80):]"
   ]
  },
  {
   "cell_type": "code",
   "execution_count": 6,
   "metadata": {},
   "outputs": [],
   "source": [
    "train_set=[]\n",
    "test_set=[]\n",
    "cnt=0\n",
    "\n",
    "itemsPerUser=defaultdict(set)\n",
    "usersPerItem=defaultdict(set)\n",
    "items=set()\n",
    "itemCount=defaultdict(int) # keep track of total times an item is reviewed\n",
    "\n",
    "for review in train_data:\n",
    "    user=review['reviewerID']\n",
    "    item=review['asin']\n",
    "    itemsPerUser[user].add(item)\n",
    "    usersPerItem[item].add(user)\n",
    "    items.add(item)\n",
    "    itemCount[item]+=1\n",
    "\n",
    "    flist=[]\n",
    "    flist.append(user)\n",
    "    flist.append(item)\n",
    "    flist.append(review['overall'])\n",
    "    train_set.append(flist)\n",
    "\n",
    "\n",
    "for review in val_data:\n",
    "    flist=[]\n",
    "    flist.append(review['reviewerID'])\n",
    "    flist.append(review['asin'])\n",
    "    flist.append(review['overall'])\n",
    "    test_set.append(flist)\n",
    "\n"
   ]
  },
  {
   "cell_type": "markdown",
   "metadata": {},
   "source": [
    "# See \"simple bias only latent factor model\"\n",
    "https://cseweb.ucsd.edu//classes/fa20/cse258-a/code/workbook4.html\n",
    "\n",
    "This is a basic latent factor model from prev assignment (needs to be improved). Uses information only from user item pairs and ratings"
   ]
  },
  {
   "cell_type": "code",
   "execution_count": 7,
   "metadata": {},
   "outputs": [
    {
     "data": {
      "text/plain": [
       "4.442140790742527"
      ]
     },
     "execution_count": 7,
     "metadata": {},
     "output_type": "execute_result"
    }
   ],
   "source": [
    "labels= [int(d['overall']) for d in train_data]\n",
    "ratingMean = sum([int(d['overall']) for d in train_data]) / len(train_data)\n",
    "ratingMean"
   ]
  },
  {
   "cell_type": "code",
   "execution_count": 8,
   "metadata": {},
   "outputs": [
    {
     "data": {
      "text/plain": [
       "1.1367579747015757"
      ]
     },
     "execution_count": 8,
     "metadata": {},
     "output_type": "execute_result"
    }
   ],
   "source": [
    "def MSE(predictions, labels):\n",
    "    differences = [(x-y)**2 for x,y in zip(predictions,labels)]\n",
    "    return sum(differences) / len(differences)\n",
    "\n",
    "val_labels= [int(d['overall']) for d in val_data]\n",
    "alwaysMean=[ratingMean]*len(val_labels)\n",
    "baselineMSE=MSE(alwaysMean,val_labels)\n",
    "baselineMSE"
   ]
  },
  {
   "cell_type": "code",
   "execution_count": 9,
   "metadata": {},
   "outputs": [],
   "source": [
    "occurrences = collections.Counter(labels)"
   ]
  },
  {
   "cell_type": "code",
   "execution_count": 10,
   "metadata": {},
   "outputs": [],
   "source": [
    "\n",
    "N = len(train_set)\n",
    "nUsers = len(itemsPerUser)\n",
    "nItems = len(usersPerItem)\n",
    "users = list(itemsPerUser.keys())\n",
    "items = list(usersPerItem.keys())\n",
    "alpha = ratingMean\n",
    "\n",
    "userBiases = defaultdict(float)\n",
    "itemBiases = defaultdict(float)\n",
    "def prediction(user, item):\n",
    "    return alpha + userBiases[user] + itemBiases[item]\n",
    "\n",
    "def MSE(predictions, labels):\n",
    "    differences = [(x-y)**2 for x,y in zip(predictions,labels)]\n",
    "    return sum(differences) / len(differences)\n",
    "\n",
    "def unpack(theta):\n",
    "    global alpha\n",
    "    global userBiases\n",
    "    global itemBiases\n",
    "    alpha = theta[0]\n",
    "    userBiases = dict(zip(users, theta[1:nUsers+1]))\n",
    "    itemBiases = dict(zip(items, theta[1+nUsers:]))\n",
    "    \n",
    "def cost(theta, labels, lamb):\n",
    "    unpack(theta)\n",
    "    predictions = [prediction(d[0], d[1]) for d in train_set]\n",
    "    cost = MSE(predictions, labels)\n",
    "    print(\"MSE = \" + str(cost))\n",
    "    for u in userBiases:\n",
    "        cost += lamb*userBiases[u]**2\n",
    "    for i in itemBiases:\n",
    "        cost += lamb*itemBiases[i]**2\n",
    "    return cost\n",
    "\n",
    "def derivative(theta, labels, lamb):\n",
    "    unpack(theta)\n",
    "    N = len(train_set)\n",
    "    dalpha = 0\n",
    "    dUserBiases = defaultdict(float)\n",
    "    dItemBiases = defaultdict(float)\n",
    "    for d in train_set:\n",
    "        u,i = d[0], d[1]\n",
    "        pred = prediction(u, i)\n",
    "        diff = pred - int(d[2])\n",
    "        dalpha += 2/N*diff\n",
    "        dUserBiases[u] += 2/N*diff\n",
    "        dItemBiases[i] += 2/N*diff\n",
    "    for u in userBiases:\n",
    "        dUserBiases[u] += 2*lamb*userBiases[u]\n",
    "    for i in itemBiases:\n",
    "        dItemBiases[i] += 2*lamb*itemBiases[i]\n",
    "    dtheta = [dalpha] + [dUserBiases[u] for u in users] + [dItemBiases[i] for i in items]\n",
    "    return np.array(dtheta)\n"
   ]
  },
  {
   "cell_type": "markdown",
   "metadata": {},
   "source": []
  },
  {
   "cell_type": "code",
   "execution_count": 11,
   "metadata": {},
   "outputs": [
    {
     "name": "stdout",
     "output_type": "stream",
     "text": [
      "MSE = 1.1308026933786226\n",
      "MSE = 1.123494643180019\n",
      "MSE = 1.3801577839909287\n",
      "MSE = 1.1219526597275666\n",
      "MSE = 1.1144653694943045\n",
      "MSE = 1.1137677095780343\n",
      "MSE = 1.1110799659060562\n",
      "MSE = 1.1019753271072044\n",
      "MSE = 1.0853022823796694\n",
      "MSE = 1.0712746448360957\n",
      "MSE = 1.0464222575040165\n",
      "MSE = 1.0342632561866645\n",
      "MSE = 1.0311546960455593\n",
      "MSE = 1.031264525691905\n",
      "MSE = 1.0288459044939853\n",
      "MSE = 1.0261955393259998\n",
      "MSE = 1.0232785110486933\n",
      "MSE = 1.024613985531601\n",
      "MSE = 1.0233062589108715\n",
      "MSE = 1.024146519274313\n",
      "MSE = 1.0232865330801724\n",
      "MSE = 1.0231201132102732\n",
      "MSE = 1.0231330902609403\n",
      "MSE = 1.0232722170502955\n",
      "MSE = 1.0230834381404676\n",
      "MSE = 1.0231411982457022\n",
      "MSE = 1.0229669499701335\n",
      "MSE = 1.0228033787692967\n",
      "MSE = 1.0226462128638882\n",
      "MSE = 1.0225521725230073\n",
      "MSE = 1.0225780320036422\n",
      "MSE = 1.022527852724066\n",
      "MSE = 1.0225537806828744\n",
      "MSE = 1.022587249789403\n",
      "MSE = 1.0226776380940696\n",
      "MSE = 1.022631136113244\n",
      "MSE = 1.0226527677596342\n",
      "MSE = 1.0226357415238818\n",
      "MSE = 1.0226138061896677\n",
      "MSE = 1.0225708108061429\n",
      "MSE = 1.0225500853429894\n",
      "MSE = 1.022572187154761\n",
      "MSE = 1.0226104960995719\n",
      "MSE = 1.0226010296574113\n",
      "MSE = 1.0226078061261903\n",
      "MSE = 1.0226021785080908\n",
      "MSE = 1.022599167938359\n",
      "MSE = 1.0226022751855222\n",
      "MSE = 1.022563892731049\n",
      "MSE = 1.0226106722011814\n",
      "MSE = 1.0226230751211804\n",
      "MSE = 1.0226009869225645\n",
      "MSE = 1.022602500423359\n",
      "MSE = 1.0226012686657309\n",
      "MSE = 1.0226024064200259\n",
      "MSE = 1.0225877815176587\n",
      "MSE = 1.0225859891352385\n",
      "MSE = 1.0225884783552812\n",
      "MSE = 1.022587728424208\n"
     ]
    },
    {
     "data": {
      "text/plain": [
       "(array([4.41754651e+00, 1.38768021e-02, 7.52129313e-03, ...,\n",
       "        1.67582618e-03, 6.30508625e-03, 5.96515691e-03]),\n",
       " 1.0654853592995777,\n",
       " {'grad': array([-6.46130275e-06,  1.10523183e-09,  8.17370982e-11, ...,\n",
       "          2.75804715e-10, -4.44652679e-09, -1.00949612e-09]),\n",
       "  'task': b'CONVERGENCE: NORM_OF_PROJECTED_GRADIENT_<=_PGTOL',\n",
       "  'funcalls': 59,\n",
       "  'nit': 50,\n",
       "  'warnflag': 0})"
      ]
     },
     "execution_count": 11,
     "metadata": {},
     "output_type": "execute_result"
    }
   ],
   "source": [
    "\n",
    "#basic  latent factor model from prev assignment (needs to be improved)\n",
    "scipy.optimize.fmin_l_bfgs_b(cost, [alpha] + [0.0]*(nUsers+nItems),\n",
    "                             derivative, args = (labels, .0001))"
   ]
  },
  {
   "cell_type": "code",
   "execution_count": 23,
   "metadata": {},
   "outputs": [],
   "source": [
    "X=[]\n",
    "y=[]\n",
    "cnt=0\n",
    "userSet=set(users)# doing this to improve search speed\n",
    "itemSet=set(items)\n",
    "for  u,i,s in test_set:\n",
    "    # if cnt%1000==0:\n",
    "    #     print(cnt)\n",
    "    # cnt+=1\n",
    "    y.append(s)\n",
    "    case_1=u in userSet\n",
    "    case_2=i in itemSet\n",
    "    if case_1 and case_2:\n",
    "        X.append(prediction(u,i))\n",
    "        continue\n",
    "    elif case_1 and not case_2:\n",
    "        p=alpha+userBiases[u]\n",
    "        if p<0:\n",
    "            p=0\n",
    "        if p>5:\n",
    "            p=5\n",
    "        X.append(p)\n",
    "        continue\n",
    "    elif case_2 and not case_1:\n",
    "        p=alpha+itemBiases[i]\n",
    "        if p<0:\n",
    "            p=0\n",
    "        if p>5:\n",
    "            p=5\n",
    "        X.append(p)\n",
    "        continue\n",
    "    else:\n",
    "        X.append(alpha)\n",
    "    "
   ]
  },
  {
   "cell_type": "code",
   "execution_count": 24,
   "metadata": {},
   "outputs": [
    {
     "data": {
      "text/plain": [
       "1.061770693765833"
      ]
     },
     "execution_count": 24,
     "metadata": {},
     "output_type": "execute_result"
    }
   ],
   "source": [
    "MSE_val=MSE(X,y)\n",
    "MSE_val"
   ]
  },
  {
   "cell_type": "code",
   "execution_count": null,
   "metadata": {},
   "outputs": [],
   "source": []
  }
 ],
 "metadata": {
  "interpreter": {
   "hash": "5e3abd38b0175449e66dcb706d52ad9e71dd92443e43314c772b1f826141991c"
  },
  "kernelspec": {
   "display_name": "Python 3.8.3 64-bit ('base': conda)",
   "name": "python3"
  },
  "language_info": {
   "codemirror_mode": {
    "name": "ipython",
    "version": 3
   },
   "file_extension": ".py",
   "mimetype": "text/x-python",
   "name": "python",
   "nbconvert_exporter": "python",
   "pygments_lexer": "ipython3",
   "version": "3.8.3"
  },
  "orig_nbformat": 4
 },
 "nbformat": 4,
 "nbformat_minor": 2
}
